{
  "nbformat": 4,
  "nbformat_minor": 0,
  "metadata": {
    "colab": {
      "name": "analysebudget.ipynb",
      "provenance": [],
      "authorship_tag": "ABX9TyNtepAPoUTVaiVhFzNvv+2h",
      "include_colab_link": true
    },
    "kernelspec": {
      "name": "python3",
      "display_name": "Python 3"
    },
    "language_info": {
      "name": "python"
    }
  },
  "cells": [
    {
      "cell_type": "markdown",
      "metadata": {
        "id": "view-in-github",
        "colab_type": "text"
      },
      "source": [
        "<a href=\"https://colab.research.google.com/github/MERITOKAMIL/ML_PRO/blob/master/analysebudget.ipynb\" target=\"_parent\"><img src=\"https://colab.research.google.com/assets/colab-badge.svg\" alt=\"Open In Colab\"/></a>"
      ]
    },
    {
      "cell_type": "markdown",
      "metadata": {
        "id": "gt9GFskQuUKP"
      },
      "source": [
        "Chaque pays dispose d'un budget financier qui décrit la capacité de dépense du gouvernement dans différents secteurs de l'économie. Dans cet exercice, nous allons voir  la tâche d'analyse du budget financier avec Python."
      ]
    },
    {
      "cell_type": "markdown",
      "metadata": {
        "id": "4OLyjIgSuhAs"
      },
      "source": [
        "**Qu'est-ce qu'un budget financier ?**"
      ]
    },
    {
      "cell_type": "markdown",
      "metadata": {
        "id": "BrtXsr8CNE14"
      },
      "source": [
        "Il y a tellement d'analystes de données aujourd'hui qui n'ont pas d'expérience dans le codage. Si vous êtes issu du commerce, vous savez peut-être ce qu'est un budget financier. En bref, il s'agit d'un rapport détaillé sur les recettes et les dépenses du gouvernement pour un exercice financier.\n",
        "\n",
        "Vous pouvez être chargé d'analyser le budget financier d'un pays chaque année si vous travaillez en tant qu'analyste de données dans le domaine des médias et des communications, car les médias doivent expliquer les priorités du gouvernement pour l'exercice complet."
      ]
    },
    {
      "cell_type": "markdown",
      "metadata": {
        "id": "PmbLYa-aNPh5"
      },
      "source": [
        "**Analyse du budget financier avec Python**"
      ]
    },
    {
      "cell_type": "code",
      "metadata": {
        "colab": {
          "resources": {
            "http://localhost:8080/nbextensions/google.colab/files.js": {
              "data": "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",
              "ok": true,
              "headers": [
                [
                  "content-type",
                  "application/javascript"
                ]
              ],
              "status": 200,
              "status_text": "OK"
            }
          },
          "base_uri": "https://localhost:8080/",
          "height": 75
        },
        "id": "pUpN4GH5u9ni",
        "outputId": "bcf63584-dce8-4814-eb6b-c7cfba6bfef7"
      },
      "source": [
        "import numpy as np\n",
        "import pandas as pd\n",
        "import matplotlib.pyplot as plt\n",
        "from google.colab import files\n",
        "data=files.upload()"
      ],
      "execution_count": null,
      "outputs": [
        {
          "output_type": "display_data",
          "data": {
            "text/html": [
              "\n",
              "     <input type=\"file\" id=\"files-73c43509-dccd-4aed-95d4-b9748ea97bfd\" name=\"files[]\" multiple disabled\n",
              "        style=\"border:none\" />\n",
              "     <output id=\"result-73c43509-dccd-4aed-95d4-b9748ea97bfd\">\n",
              "      Upload widget is only available when the cell has been executed in the\n",
              "      current browser session. Please rerun this cell to enable.\n",
              "      </output>\n",
              "      <script src=\"/nbextensions/google.colab/files.js\"></script> "
            ],
            "text/plain": [
              "<IPython.core.display.HTML object>"
            ]
          },
          "metadata": {
            "tags": []
          }
        },
        {
          "output_type": "stream",
          "text": [
            "Saving India_budget_2021.csv to India_budget_2021 (2).csv\n"
          ],
          "name": "stdout"
        }
      ]
    },
    {
      "cell_type": "code",
      "metadata": {
        "colab": {
          "base_uri": "https://localhost:8080/",
          "height": 1000
        },
        "id": "8gju4HOWBjtY",
        "outputId": "9c0970a9-b0fa-4d0f-ac3e-2555bf01ce8f"
      },
      "source": [
        "df=pd.read_csv(\"India_budget_2021.csv\")\n",
        "df"
      ],
      "execution_count": null,
      "outputs": [
        {
          "output_type": "execute_result",
          "data": {
            "text/html": [
              "<div>\n",
              "<style scoped>\n",
              "    .dataframe tbody tr th:only-of-type {\n",
              "        vertical-align: middle;\n",
              "    }\n",
              "\n",
              "    .dataframe tbody tr th {\n",
              "        vertical-align: top;\n",
              "    }\n",
              "\n",
              "    .dataframe thead th {\n",
              "        text-align: right;\n",
              "    }\n",
              "</style>\n",
              "<table border=\"1\" class=\"dataframe\">\n",
              "  <thead>\n",
              "    <tr style=\"text-align: right;\">\n",
              "      <th></th>\n",
              "      <th>Department /Ministry</th>\n",
              "      <th>Fund allotted(in ₹crores)</th>\n",
              "    </tr>\n",
              "  </thead>\n",
              "  <tbody>\n",
              "    <tr>\n",
              "      <th>0</th>\n",
              "      <td>MINISTRY OF AGRICULTURE</td>\n",
              "      <td>131531.19</td>\n",
              "    </tr>\n",
              "    <tr>\n",
              "      <th>1</th>\n",
              "      <td>DEPARTMENT OF ATOMIC ENERGY</td>\n",
              "      <td>18264.89</td>\n",
              "    </tr>\n",
              "    <tr>\n",
              "      <th>2</th>\n",
              "      <td>MINISTRY OF AYURVEDA, YOGA</td>\n",
              "      <td>2970.30</td>\n",
              "    </tr>\n",
              "    <tr>\n",
              "      <th>3</th>\n",
              "      <td>MINISTRY OF CHEMICALS AND FERTILISER</td>\n",
              "      <td>80714.94</td>\n",
              "    </tr>\n",
              "    <tr>\n",
              "      <th>4</th>\n",
              "      <td>MINISTRY OF CIVIL AVIATION</td>\n",
              "      <td>3224.67</td>\n",
              "    </tr>\n",
              "    <tr>\n",
              "      <th>5</th>\n",
              "      <td>MINISTRY OF COAL</td>\n",
              "      <td>534.88</td>\n",
              "    </tr>\n",
              "    <tr>\n",
              "      <th>6</th>\n",
              "      <td>MINISTRY OF COMMERCE AND INDUSTRY</td>\n",
              "      <td>12768.25</td>\n",
              "    </tr>\n",
              "    <tr>\n",
              "      <th>7</th>\n",
              "      <td>MINISTRY OF COMMUNICATION</td>\n",
              "      <td>75265.22</td>\n",
              "    </tr>\n",
              "    <tr>\n",
              "      <th>8</th>\n",
              "      <td>MINISTRY OF CONSUMER AFFAIRS</td>\n",
              "      <td>256948.40</td>\n",
              "    </tr>\n",
              "    <tr>\n",
              "      <th>9</th>\n",
              "      <td>MINISTRY OF CORPORATE AFFAIRS</td>\n",
              "      <td>712.13</td>\n",
              "    </tr>\n",
              "    <tr>\n",
              "      <th>10</th>\n",
              "      <td>MINISTRY OF CULTURE</td>\n",
              "      <td>2687.99</td>\n",
              "    </tr>\n",
              "    <tr>\n",
              "      <th>11</th>\n",
              "      <td>MINISTRY OF DEFENCE</td>\n",
              "      <td>478195.62</td>\n",
              "    </tr>\n",
              "    <tr>\n",
              "      <th>12</th>\n",
              "      <td>MINISTRY OF DEVELOPMENT OF NORTH EASTERN REGION</td>\n",
              "      <td>2658.00</td>\n",
              "    </tr>\n",
              "    <tr>\n",
              "      <th>13</th>\n",
              "      <td>MINISTRY OF EARTH SCIENCES</td>\n",
              "      <td>1897.13</td>\n",
              "    </tr>\n",
              "    <tr>\n",
              "      <th>14</th>\n",
              "      <td>MINISTRY OF EDUCATION</td>\n",
              "      <td>93224.31</td>\n",
              "    </tr>\n",
              "    <tr>\n",
              "      <th>15</th>\n",
              "      <td>MINISTRY OF ELECTRONICS AND INFORMATION TECHNO...</td>\n",
              "      <td>9720.66</td>\n",
              "    </tr>\n",
              "    <tr>\n",
              "      <th>16</th>\n",
              "      <td>MINISTRY OF ENVIRONMENT, FOREST</td>\n",
              "      <td>2869.93</td>\n",
              "    </tr>\n",
              "    <tr>\n",
              "      <th>17</th>\n",
              "      <td>MINISTRY OF EXTERNAL AFFAIRS</td>\n",
              "      <td>18154.73</td>\n",
              "    </tr>\n",
              "    <tr>\n",
              "      <th>18</th>\n",
              "      <td>MINISTRY OF FINANCE</td>\n",
              "      <td>1386273.30</td>\n",
              "    </tr>\n",
              "    <tr>\n",
              "      <th>19</th>\n",
              "      <td>MINISTRY OF FISHERIES, ANIMAL HUSBANDRY</td>\n",
              "      <td>4322.82</td>\n",
              "    </tr>\n",
              "    <tr>\n",
              "      <th>20</th>\n",
              "      <td>MINISTRY OF FOOD PROCESSING INDUSTRIES</td>\n",
              "      <td>1308.66</td>\n",
              "    </tr>\n",
              "    <tr>\n",
              "      <th>21</th>\n",
              "      <td>MINISTRY OF HEALTH AND FAMILY WELFARE</td>\n",
              "      <td>73931.77</td>\n",
              "    </tr>\n",
              "    <tr>\n",
              "      <th>22</th>\n",
              "      <td>MINISTRY OF HEAVY INDUSTRIES</td>\n",
              "      <td>1017.08</td>\n",
              "    </tr>\n",
              "    <tr>\n",
              "      <th>23</th>\n",
              "      <td>MINISTRY OF HOME AFFAIRS</td>\n",
              "      <td>166546.94</td>\n",
              "    </tr>\n",
              "    <tr>\n",
              "      <th>24</th>\n",
              "      <td>MINISTRY OF HOUSING AND URBAN AFFAIRS</td>\n",
              "      <td>54581.00</td>\n",
              "    </tr>\n",
              "    <tr>\n",
              "      <th>25</th>\n",
              "      <td>MINISTRY OF INFORMATION AND BROADCASTING</td>\n",
              "      <td>4071.23</td>\n",
              "    </tr>\n",
              "    <tr>\n",
              "      <th>26</th>\n",
              "      <td>MINISTRY OF JAL SHAKTI</td>\n",
              "      <td>69053.02</td>\n",
              "    </tr>\n",
              "    <tr>\n",
              "      <th>27</th>\n",
              "      <td>MINISTRY OF LABOUR AND EMPLOYMENT</td>\n",
              "      <td>13306.50</td>\n",
              "    </tr>\n",
              "    <tr>\n",
              "      <th>28</th>\n",
              "      <td>MINISTRY OF LAW AND JUSTICE</td>\n",
              "      <td>3229.94</td>\n",
              "    </tr>\n",
              "    <tr>\n",
              "      <th>29</th>\n",
              "      <td>MINISTRY OF MICRO, SMALL AND MEDIUM ENTERPRISES</td>\n",
              "      <td>15699.65</td>\n",
              "    </tr>\n",
              "    <tr>\n",
              "      <th>30</th>\n",
              "      <td>MINISTRY OF MINES</td>\n",
              "      <td>1466.82</td>\n",
              "    </tr>\n",
              "    <tr>\n",
              "      <th>31</th>\n",
              "      <td>MINISTRY OF MINORITY AFFAIR</td>\n",
              "      <td>4810.77</td>\n",
              "    </tr>\n",
              "    <tr>\n",
              "      <th>32</th>\n",
              "      <td>MINISTRY OF NEW AND RENEWABLE ENERGY</td>\n",
              "      <td>5753.00</td>\n",
              "    </tr>\n",
              "    <tr>\n",
              "      <th>33</th>\n",
              "      <td>MINISTRY OF PANCHAYATI RAJ</td>\n",
              "      <td>913.43</td>\n",
              "    </tr>\n",
              "    <tr>\n",
              "      <th>34</th>\n",
              "      <td>MINISTRY OF PARLIAMENTARY AFFAIRS</td>\n",
              "      <td>65.07</td>\n",
              "    </tr>\n",
              "    <tr>\n",
              "      <th>35</th>\n",
              "      <td>MINISTRY OF PERSONNEL, PUBLIC GRIEVANCES</td>\n",
              "      <td>2097.24</td>\n",
              "    </tr>\n",
              "    <tr>\n",
              "      <th>36</th>\n",
              "      <td>MINISTRY OF PETROLEUM AND NATURAL GAS</td>\n",
              "      <td>15943.78</td>\n",
              "    </tr>\n",
              "    <tr>\n",
              "      <th>37</th>\n",
              "      <td>MINISTRY OF PLANNING</td>\n",
              "      <td>1062.77</td>\n",
              "    </tr>\n",
              "    <tr>\n",
              "      <th>38</th>\n",
              "      <td>MINISTRY OF PORTS, SHIPPING</td>\n",
              "      <td>1702.35</td>\n",
              "    </tr>\n",
              "    <tr>\n",
              "      <th>39</th>\n",
              "      <td>MINISTRY OF POWER</td>\n",
              "      <td>15322.00</td>\n",
              "    </tr>\n",
              "    <tr>\n",
              "      <th>40</th>\n",
              "      <td>THE PRESIDENT, PARLIAMENT, UNION PUBLIC SERVIC...</td>\n",
              "      <td>1687.57</td>\n",
              "    </tr>\n",
              "    <tr>\n",
              "      <th>41</th>\n",
              "      <td>MINISTRY OF RAILWAYS</td>\n",
              "      <td>110054.64</td>\n",
              "    </tr>\n",
              "    <tr>\n",
              "      <th>42</th>\n",
              "      <td>MINISTRY OF ROAD TRANSPORT AND HIGHWAY</td>\n",
              "      <td>118101.00</td>\n",
              "    </tr>\n",
              "    <tr>\n",
              "      <th>43</th>\n",
              "      <td>MINISTRY OF RURAL DEVELOPMENT</td>\n",
              "      <td>133689.50</td>\n",
              "    </tr>\n",
              "    <tr>\n",
              "      <th>44</th>\n",
              "      <td>MINISTRY OF SCIENCE AND TECHNOLOGY</td>\n",
              "      <td>14794.03</td>\n",
              "    </tr>\n",
              "    <tr>\n",
              "      <th>45</th>\n",
              "      <td>MINISTRY OF SKILL DEVELOPMENT</td>\n",
              "      <td>2785.23</td>\n",
              "    </tr>\n",
              "    <tr>\n",
              "      <th>46</th>\n",
              "      <td>MINISTRY OF SOCIAL JUSTICE AND EMPOWERMENT</td>\n",
              "      <td>11689.39</td>\n",
              "    </tr>\n",
              "    <tr>\n",
              "      <th>47</th>\n",
              "      <td>DEPARMENT OF SPACE</td>\n",
              "      <td>13949.09</td>\n",
              "    </tr>\n",
              "    <tr>\n",
              "      <th>48</th>\n",
              "      <td>MINISTRY OF STATISTICS</td>\n",
              "      <td>1409.13</td>\n",
              "    </tr>\n",
              "    <tr>\n",
              "      <th>49</th>\n",
              "      <td>MINISTRY OF STEEL</td>\n",
              "      <td>39.25</td>\n",
              "    </tr>\n",
              "    <tr>\n",
              "      <th>50</th>\n",
              "      <td>MINISTRY OF TEXTILES</td>\n",
              "      <td>3631.64</td>\n",
              "    </tr>\n",
              "    <tr>\n",
              "      <th>51</th>\n",
              "      <td>MINISTRY OF TOURISM</td>\n",
              "      <td>2026.77</td>\n",
              "    </tr>\n",
              "    <tr>\n",
              "      <th>52</th>\n",
              "      <td>MINISTRY OF TRIBAL AFFAIRS</td>\n",
              "      <td>7524.87</td>\n",
              "    </tr>\n",
              "    <tr>\n",
              "      <th>53</th>\n",
              "      <td>MINISTRY OF WOMEN AND CHILD DEVELOPMENT</td>\n",
              "      <td>24435.00</td>\n",
              "    </tr>\n",
              "    <tr>\n",
              "      <th>54</th>\n",
              "      <td>MINISTRY OF YOUTH AFFAIRS AND SPORTS</td>\n",
              "      <td>2596.14</td>\n",
              "    </tr>\n",
              "    <tr>\n",
              "      <th>55</th>\n",
              "      <td>NaN</td>\n",
              "      <td>NaN</td>\n",
              "    </tr>\n",
              "    <tr>\n",
              "      <th>56</th>\n",
              "      <td>GRAND TOTAL</td>\n",
              "      <td>3483235.63</td>\n",
              "    </tr>\n",
              "  </tbody>\n",
              "</table>\n",
              "</div>"
            ],
            "text/plain": [
              "                                 Department /Ministry  Fund allotted(in ₹crores)\n",
              "0                             MINISTRY OF AGRICULTURE                  131531.19\n",
              "1                         DEPARTMENT OF ATOMIC ENERGY                   18264.89\n",
              "2                          MINISTRY OF AYURVEDA, YOGA                    2970.30\n",
              "3                MINISTRY OF CHEMICALS AND FERTILISER                   80714.94\n",
              "4                          MINISTRY OF CIVIL AVIATION                    3224.67\n",
              "5                                    MINISTRY OF COAL                     534.88\n",
              "6                   MINISTRY OF COMMERCE AND INDUSTRY                   12768.25\n",
              "7                           MINISTRY OF COMMUNICATION                   75265.22\n",
              "8                        MINISTRY OF CONSUMER AFFAIRS                  256948.40\n",
              "9                       MINISTRY OF CORPORATE AFFAIRS                     712.13\n",
              "10                                MINISTRY OF CULTURE                    2687.99\n",
              "11                                MINISTRY OF DEFENCE                  478195.62\n",
              "12    MINISTRY OF DEVELOPMENT OF NORTH EASTERN REGION                    2658.00\n",
              "13                         MINISTRY OF EARTH SCIENCES                    1897.13\n",
              "14                              MINISTRY OF EDUCATION                   93224.31\n",
              "15  MINISTRY OF ELECTRONICS AND INFORMATION TECHNO...                    9720.66\n",
              "16                    MINISTRY OF ENVIRONMENT, FOREST                    2869.93\n",
              "17                       MINISTRY OF EXTERNAL AFFAIRS                   18154.73\n",
              "18                                MINISTRY OF FINANCE                 1386273.30\n",
              "19            MINISTRY OF FISHERIES, ANIMAL HUSBANDRY                    4322.82\n",
              "20             MINISTRY OF FOOD PROCESSING INDUSTRIES                    1308.66\n",
              "21              MINISTRY OF HEALTH AND FAMILY WELFARE                   73931.77\n",
              "22                       MINISTRY OF HEAVY INDUSTRIES                    1017.08\n",
              "23                           MINISTRY OF HOME AFFAIRS                  166546.94\n",
              "24              MINISTRY OF HOUSING AND URBAN AFFAIRS                   54581.00\n",
              "25           MINISTRY OF INFORMATION AND BROADCASTING                    4071.23\n",
              "26                             MINISTRY OF JAL SHAKTI                   69053.02\n",
              "27                  MINISTRY OF LABOUR AND EMPLOYMENT                   13306.50\n",
              "28                        MINISTRY OF LAW AND JUSTICE                    3229.94\n",
              "29    MINISTRY OF MICRO, SMALL AND MEDIUM ENTERPRISES                   15699.65\n",
              "30                                  MINISTRY OF MINES                    1466.82\n",
              "31                        MINISTRY OF MINORITY AFFAIR                    4810.77\n",
              "32               MINISTRY OF NEW AND RENEWABLE ENERGY                    5753.00\n",
              "33                         MINISTRY OF PANCHAYATI RAJ                     913.43\n",
              "34                  MINISTRY OF PARLIAMENTARY AFFAIRS                      65.07\n",
              "35           MINISTRY OF PERSONNEL, PUBLIC GRIEVANCES                    2097.24\n",
              "36              MINISTRY OF PETROLEUM AND NATURAL GAS                   15943.78\n",
              "37                               MINISTRY OF PLANNING                    1062.77\n",
              "38                        MINISTRY OF PORTS, SHIPPING                    1702.35\n",
              "39                                  MINISTRY OF POWER                   15322.00\n",
              "40  THE PRESIDENT, PARLIAMENT, UNION PUBLIC SERVIC...                    1687.57\n",
              "41                               MINISTRY OF RAILWAYS                  110054.64\n",
              "42             MINISTRY OF ROAD TRANSPORT AND HIGHWAY                  118101.00\n",
              "43                      MINISTRY OF RURAL DEVELOPMENT                  133689.50\n",
              "44                 MINISTRY OF SCIENCE AND TECHNOLOGY                   14794.03\n",
              "45                      MINISTRY OF SKILL DEVELOPMENT                    2785.23\n",
              "46         MINISTRY OF SOCIAL JUSTICE AND EMPOWERMENT                   11689.39\n",
              "47                                 DEPARMENT OF SPACE                   13949.09\n",
              "48                             MINISTRY OF STATISTICS                    1409.13\n",
              "49                                  MINISTRY OF STEEL                      39.25\n",
              "50                               MINISTRY OF TEXTILES                    3631.64\n",
              "51                                MINISTRY OF TOURISM                    2026.77\n",
              "52                         MINISTRY OF TRIBAL AFFAIRS                    7524.87\n",
              "53            MINISTRY OF WOMEN AND CHILD DEVELOPMENT                   24435.00\n",
              "54               MINISTRY OF YOUTH AFFAIRS AND SPORTS                    2596.14\n",
              "55                                                NaN                        NaN\n",
              "56                                        GRAND TOTAL                 3483235.63"
            ]
          },
          "metadata": {
            "tags": []
          },
          "execution_count": 45
        }
      ]
    },
    {
      "cell_type": "code",
      "metadata": {
        "colab": {
          "base_uri": "https://localhost:8080/"
        },
        "id": "gCvs-e0SvYQZ",
        "outputId": "4d743438-2b0b-4594-b697-3272d2347c03"
      },
      "source": [
        "df.info()"
      ],
      "execution_count": null,
      "outputs": [
        {
          "output_type": "stream",
          "text": [
            "<class 'pandas.core.frame.DataFrame'>\n",
            "RangeIndex: 57 entries, 0 to 56\n",
            "Data columns (total 2 columns):\n",
            " #   Column                     Non-Null Count  Dtype  \n",
            "---  ------                     --------------  -----  \n",
            " 0   Department /Ministry       56 non-null     object \n",
            " 1   Fund allotted(in ₹crores)  56 non-null     float64\n",
            "dtypes: float64(1), object(1)\n",
            "memory usage: 1.0+ KB\n"
          ],
          "name": "stdout"
        }
      ]
    },
    {
      "cell_type": "code",
      "metadata": {
        "colab": {
          "base_uri": "https://localhost:8080/"
        },
        "id": "-p_hXptGLz77",
        "outputId": "b88d9243-42ea-4cd2-b16b-f116c5282d41"
      },
      "source": [
        "df.isna().sum()/df.shape[0]"
      ],
      "execution_count": null,
      "outputs": [
        {
          "output_type": "execute_result",
          "data": {
            "text/plain": [
              "Department /Ministry         0.017544\n",
              "Fund allotted(in ₹crores)    0.017544\n",
              "dtype: float64"
            ]
          },
          "metadata": {
            "tags": []
          },
          "execution_count": 49
        }
      ]
    },
    {
      "cell_type": "markdown",
      "metadata": {
        "id": "7682_hO6wBuI"
      },
      "source": [
        "nous pouvons voir une valeur NaN dans cet ensemble de données, supprimons les valeurs NaN et continuons la tâche d'analyse du budget financier avec Python :"
      ]
    },
    {
      "cell_type": "code",
      "metadata": {
        "colab": {
          "base_uri": "https://localhost:8080/",
          "height": 1000
        },
        "id": "H5djGmq3wYys",
        "outputId": "64f6914f-e1a5-448c-f42b-822a38ee22e9"
      },
      "source": [
        "df.dropna()"
      ],
      "execution_count": null,
      "outputs": [
        {
          "output_type": "execute_result",
          "data": {
            "text/html": [
              "<div>\n",
              "<style scoped>\n",
              "    .dataframe tbody tr th:only-of-type {\n",
              "        vertical-align: middle;\n",
              "    }\n",
              "\n",
              "    .dataframe tbody tr th {\n",
              "        vertical-align: top;\n",
              "    }\n",
              "\n",
              "    .dataframe thead th {\n",
              "        text-align: right;\n",
              "    }\n",
              "</style>\n",
              "<table border=\"1\" class=\"dataframe\">\n",
              "  <thead>\n",
              "    <tr style=\"text-align: right;\">\n",
              "      <th></th>\n",
              "      <th>Department /Ministry</th>\n",
              "      <th>Fund allotted(in ₹crores)</th>\n",
              "    </tr>\n",
              "  </thead>\n",
              "  <tbody>\n",
              "    <tr>\n",
              "      <th>0</th>\n",
              "      <td>MINISTRY OF AGRICULTURE</td>\n",
              "      <td>131531.19</td>\n",
              "    </tr>\n",
              "    <tr>\n",
              "      <th>1</th>\n",
              "      <td>DEPARTMENT OF ATOMIC ENERGY</td>\n",
              "      <td>18264.89</td>\n",
              "    </tr>\n",
              "    <tr>\n",
              "      <th>2</th>\n",
              "      <td>MINISTRY OF AYURVEDA, YOGA</td>\n",
              "      <td>2970.30</td>\n",
              "    </tr>\n",
              "    <tr>\n",
              "      <th>3</th>\n",
              "      <td>MINISTRY OF CHEMICALS AND FERTILISER</td>\n",
              "      <td>80714.94</td>\n",
              "    </tr>\n",
              "    <tr>\n",
              "      <th>4</th>\n",
              "      <td>MINISTRY OF CIVIL AVIATION</td>\n",
              "      <td>3224.67</td>\n",
              "    </tr>\n",
              "    <tr>\n",
              "      <th>5</th>\n",
              "      <td>MINISTRY OF COAL</td>\n",
              "      <td>534.88</td>\n",
              "    </tr>\n",
              "    <tr>\n",
              "      <th>6</th>\n",
              "      <td>MINISTRY OF COMMERCE AND INDUSTRY</td>\n",
              "      <td>12768.25</td>\n",
              "    </tr>\n",
              "    <tr>\n",
              "      <th>7</th>\n",
              "      <td>MINISTRY OF COMMUNICATION</td>\n",
              "      <td>75265.22</td>\n",
              "    </tr>\n",
              "    <tr>\n",
              "      <th>8</th>\n",
              "      <td>MINISTRY OF CONSUMER AFFAIRS</td>\n",
              "      <td>256948.40</td>\n",
              "    </tr>\n",
              "    <tr>\n",
              "      <th>9</th>\n",
              "      <td>MINISTRY OF CORPORATE AFFAIRS</td>\n",
              "      <td>712.13</td>\n",
              "    </tr>\n",
              "    <tr>\n",
              "      <th>10</th>\n",
              "      <td>MINISTRY OF CULTURE</td>\n",
              "      <td>2687.99</td>\n",
              "    </tr>\n",
              "    <tr>\n",
              "      <th>11</th>\n",
              "      <td>MINISTRY OF DEFENCE</td>\n",
              "      <td>478195.62</td>\n",
              "    </tr>\n",
              "    <tr>\n",
              "      <th>12</th>\n",
              "      <td>MINISTRY OF DEVELOPMENT OF NORTH EASTERN REGION</td>\n",
              "      <td>2658.00</td>\n",
              "    </tr>\n",
              "    <tr>\n",
              "      <th>13</th>\n",
              "      <td>MINISTRY OF EARTH SCIENCES</td>\n",
              "      <td>1897.13</td>\n",
              "    </tr>\n",
              "    <tr>\n",
              "      <th>14</th>\n",
              "      <td>MINISTRY OF EDUCATION</td>\n",
              "      <td>93224.31</td>\n",
              "    </tr>\n",
              "    <tr>\n",
              "      <th>15</th>\n",
              "      <td>MINISTRY OF ELECTRONICS AND INFORMATION TECHNO...</td>\n",
              "      <td>9720.66</td>\n",
              "    </tr>\n",
              "    <tr>\n",
              "      <th>16</th>\n",
              "      <td>MINISTRY OF ENVIRONMENT, FOREST</td>\n",
              "      <td>2869.93</td>\n",
              "    </tr>\n",
              "    <tr>\n",
              "      <th>17</th>\n",
              "      <td>MINISTRY OF EXTERNAL AFFAIRS</td>\n",
              "      <td>18154.73</td>\n",
              "    </tr>\n",
              "    <tr>\n",
              "      <th>18</th>\n",
              "      <td>MINISTRY OF FINANCE</td>\n",
              "      <td>1386273.30</td>\n",
              "    </tr>\n",
              "    <tr>\n",
              "      <th>19</th>\n",
              "      <td>MINISTRY OF FISHERIES, ANIMAL HUSBANDRY</td>\n",
              "      <td>4322.82</td>\n",
              "    </tr>\n",
              "    <tr>\n",
              "      <th>20</th>\n",
              "      <td>MINISTRY OF FOOD PROCESSING INDUSTRIES</td>\n",
              "      <td>1308.66</td>\n",
              "    </tr>\n",
              "    <tr>\n",
              "      <th>21</th>\n",
              "      <td>MINISTRY OF HEALTH AND FAMILY WELFARE</td>\n",
              "      <td>73931.77</td>\n",
              "    </tr>\n",
              "    <tr>\n",
              "      <th>22</th>\n",
              "      <td>MINISTRY OF HEAVY INDUSTRIES</td>\n",
              "      <td>1017.08</td>\n",
              "    </tr>\n",
              "    <tr>\n",
              "      <th>23</th>\n",
              "      <td>MINISTRY OF HOME AFFAIRS</td>\n",
              "      <td>166546.94</td>\n",
              "    </tr>\n",
              "    <tr>\n",
              "      <th>24</th>\n",
              "      <td>MINISTRY OF HOUSING AND URBAN AFFAIRS</td>\n",
              "      <td>54581.00</td>\n",
              "    </tr>\n",
              "    <tr>\n",
              "      <th>25</th>\n",
              "      <td>MINISTRY OF INFORMATION AND BROADCASTING</td>\n",
              "      <td>4071.23</td>\n",
              "    </tr>\n",
              "    <tr>\n",
              "      <th>26</th>\n",
              "      <td>MINISTRY OF JAL SHAKTI</td>\n",
              "      <td>69053.02</td>\n",
              "    </tr>\n",
              "    <tr>\n",
              "      <th>27</th>\n",
              "      <td>MINISTRY OF LABOUR AND EMPLOYMENT</td>\n",
              "      <td>13306.50</td>\n",
              "    </tr>\n",
              "    <tr>\n",
              "      <th>28</th>\n",
              "      <td>MINISTRY OF LAW AND JUSTICE</td>\n",
              "      <td>3229.94</td>\n",
              "    </tr>\n",
              "    <tr>\n",
              "      <th>29</th>\n",
              "      <td>MINISTRY OF MICRO, SMALL AND MEDIUM ENTERPRISES</td>\n",
              "      <td>15699.65</td>\n",
              "    </tr>\n",
              "    <tr>\n",
              "      <th>30</th>\n",
              "      <td>MINISTRY OF MINES</td>\n",
              "      <td>1466.82</td>\n",
              "    </tr>\n",
              "    <tr>\n",
              "      <th>31</th>\n",
              "      <td>MINISTRY OF MINORITY AFFAIR</td>\n",
              "      <td>4810.77</td>\n",
              "    </tr>\n",
              "    <tr>\n",
              "      <th>32</th>\n",
              "      <td>MINISTRY OF NEW AND RENEWABLE ENERGY</td>\n",
              "      <td>5753.00</td>\n",
              "    </tr>\n",
              "    <tr>\n",
              "      <th>33</th>\n",
              "      <td>MINISTRY OF PANCHAYATI RAJ</td>\n",
              "      <td>913.43</td>\n",
              "    </tr>\n",
              "    <tr>\n",
              "      <th>34</th>\n",
              "      <td>MINISTRY OF PARLIAMENTARY AFFAIRS</td>\n",
              "      <td>65.07</td>\n",
              "    </tr>\n",
              "    <tr>\n",
              "      <th>35</th>\n",
              "      <td>MINISTRY OF PERSONNEL, PUBLIC GRIEVANCES</td>\n",
              "      <td>2097.24</td>\n",
              "    </tr>\n",
              "    <tr>\n",
              "      <th>36</th>\n",
              "      <td>MINISTRY OF PETROLEUM AND NATURAL GAS</td>\n",
              "      <td>15943.78</td>\n",
              "    </tr>\n",
              "    <tr>\n",
              "      <th>37</th>\n",
              "      <td>MINISTRY OF PLANNING</td>\n",
              "      <td>1062.77</td>\n",
              "    </tr>\n",
              "    <tr>\n",
              "      <th>38</th>\n",
              "      <td>MINISTRY OF PORTS, SHIPPING</td>\n",
              "      <td>1702.35</td>\n",
              "    </tr>\n",
              "    <tr>\n",
              "      <th>39</th>\n",
              "      <td>MINISTRY OF POWER</td>\n",
              "      <td>15322.00</td>\n",
              "    </tr>\n",
              "    <tr>\n",
              "      <th>40</th>\n",
              "      <td>THE PRESIDENT, PARLIAMENT, UNION PUBLIC SERVIC...</td>\n",
              "      <td>1687.57</td>\n",
              "    </tr>\n",
              "    <tr>\n",
              "      <th>41</th>\n",
              "      <td>MINISTRY OF RAILWAYS</td>\n",
              "      <td>110054.64</td>\n",
              "    </tr>\n",
              "    <tr>\n",
              "      <th>42</th>\n",
              "      <td>MINISTRY OF ROAD TRANSPORT AND HIGHWAY</td>\n",
              "      <td>118101.00</td>\n",
              "    </tr>\n",
              "    <tr>\n",
              "      <th>43</th>\n",
              "      <td>MINISTRY OF RURAL DEVELOPMENT</td>\n",
              "      <td>133689.50</td>\n",
              "    </tr>\n",
              "    <tr>\n",
              "      <th>44</th>\n",
              "      <td>MINISTRY OF SCIENCE AND TECHNOLOGY</td>\n",
              "      <td>14794.03</td>\n",
              "    </tr>\n",
              "    <tr>\n",
              "      <th>45</th>\n",
              "      <td>MINISTRY OF SKILL DEVELOPMENT</td>\n",
              "      <td>2785.23</td>\n",
              "    </tr>\n",
              "    <tr>\n",
              "      <th>46</th>\n",
              "      <td>MINISTRY OF SOCIAL JUSTICE AND EMPOWERMENT</td>\n",
              "      <td>11689.39</td>\n",
              "    </tr>\n",
              "    <tr>\n",
              "      <th>47</th>\n",
              "      <td>DEPARMENT OF SPACE</td>\n",
              "      <td>13949.09</td>\n",
              "    </tr>\n",
              "    <tr>\n",
              "      <th>48</th>\n",
              "      <td>MINISTRY OF STATISTICS</td>\n",
              "      <td>1409.13</td>\n",
              "    </tr>\n",
              "    <tr>\n",
              "      <th>49</th>\n",
              "      <td>MINISTRY OF STEEL</td>\n",
              "      <td>39.25</td>\n",
              "    </tr>\n",
              "    <tr>\n",
              "      <th>50</th>\n",
              "      <td>MINISTRY OF TEXTILES</td>\n",
              "      <td>3631.64</td>\n",
              "    </tr>\n",
              "    <tr>\n",
              "      <th>51</th>\n",
              "      <td>MINISTRY OF TOURISM</td>\n",
              "      <td>2026.77</td>\n",
              "    </tr>\n",
              "    <tr>\n",
              "      <th>52</th>\n",
              "      <td>MINISTRY OF TRIBAL AFFAIRS</td>\n",
              "      <td>7524.87</td>\n",
              "    </tr>\n",
              "    <tr>\n",
              "      <th>53</th>\n",
              "      <td>MINISTRY OF WOMEN AND CHILD DEVELOPMENT</td>\n",
              "      <td>24435.00</td>\n",
              "    </tr>\n",
              "    <tr>\n",
              "      <th>54</th>\n",
              "      <td>MINISTRY OF YOUTH AFFAIRS AND SPORTS</td>\n",
              "      <td>2596.14</td>\n",
              "    </tr>\n",
              "    <tr>\n",
              "      <th>56</th>\n",
              "      <td>GRAND TOTAL</td>\n",
              "      <td>3483235.63</td>\n",
              "    </tr>\n",
              "  </tbody>\n",
              "</table>\n",
              "</div>"
            ],
            "text/plain": [
              "                                 Department /Ministry  Fund allotted(in ₹crores)\n",
              "0                             MINISTRY OF AGRICULTURE                  131531.19\n",
              "1                         DEPARTMENT OF ATOMIC ENERGY                   18264.89\n",
              "2                          MINISTRY OF AYURVEDA, YOGA                    2970.30\n",
              "3                MINISTRY OF CHEMICALS AND FERTILISER                   80714.94\n",
              "4                          MINISTRY OF CIVIL AVIATION                    3224.67\n",
              "5                                    MINISTRY OF COAL                     534.88\n",
              "6                   MINISTRY OF COMMERCE AND INDUSTRY                   12768.25\n",
              "7                           MINISTRY OF COMMUNICATION                   75265.22\n",
              "8                        MINISTRY OF CONSUMER AFFAIRS                  256948.40\n",
              "9                       MINISTRY OF CORPORATE AFFAIRS                     712.13\n",
              "10                                MINISTRY OF CULTURE                    2687.99\n",
              "11                                MINISTRY OF DEFENCE                  478195.62\n",
              "12    MINISTRY OF DEVELOPMENT OF NORTH EASTERN REGION                    2658.00\n",
              "13                         MINISTRY OF EARTH SCIENCES                    1897.13\n",
              "14                              MINISTRY OF EDUCATION                   93224.31\n",
              "15  MINISTRY OF ELECTRONICS AND INFORMATION TECHNO...                    9720.66\n",
              "16                    MINISTRY OF ENVIRONMENT, FOREST                    2869.93\n",
              "17                       MINISTRY OF EXTERNAL AFFAIRS                   18154.73\n",
              "18                                MINISTRY OF FINANCE                 1386273.30\n",
              "19            MINISTRY OF FISHERIES, ANIMAL HUSBANDRY                    4322.82\n",
              "20             MINISTRY OF FOOD PROCESSING INDUSTRIES                    1308.66\n",
              "21              MINISTRY OF HEALTH AND FAMILY WELFARE                   73931.77\n",
              "22                       MINISTRY OF HEAVY INDUSTRIES                    1017.08\n",
              "23                           MINISTRY OF HOME AFFAIRS                  166546.94\n",
              "24              MINISTRY OF HOUSING AND URBAN AFFAIRS                   54581.00\n",
              "25           MINISTRY OF INFORMATION AND BROADCASTING                    4071.23\n",
              "26                             MINISTRY OF JAL SHAKTI                   69053.02\n",
              "27                  MINISTRY OF LABOUR AND EMPLOYMENT                   13306.50\n",
              "28                        MINISTRY OF LAW AND JUSTICE                    3229.94\n",
              "29    MINISTRY OF MICRO, SMALL AND MEDIUM ENTERPRISES                   15699.65\n",
              "30                                  MINISTRY OF MINES                    1466.82\n",
              "31                        MINISTRY OF MINORITY AFFAIR                    4810.77\n",
              "32               MINISTRY OF NEW AND RENEWABLE ENERGY                    5753.00\n",
              "33                         MINISTRY OF PANCHAYATI RAJ                     913.43\n",
              "34                  MINISTRY OF PARLIAMENTARY AFFAIRS                      65.07\n",
              "35           MINISTRY OF PERSONNEL, PUBLIC GRIEVANCES                    2097.24\n",
              "36              MINISTRY OF PETROLEUM AND NATURAL GAS                   15943.78\n",
              "37                               MINISTRY OF PLANNING                    1062.77\n",
              "38                        MINISTRY OF PORTS, SHIPPING                    1702.35\n",
              "39                                  MINISTRY OF POWER                   15322.00\n",
              "40  THE PRESIDENT, PARLIAMENT, UNION PUBLIC SERVIC...                    1687.57\n",
              "41                               MINISTRY OF RAILWAYS                  110054.64\n",
              "42             MINISTRY OF ROAD TRANSPORT AND HIGHWAY                  118101.00\n",
              "43                      MINISTRY OF RURAL DEVELOPMENT                  133689.50\n",
              "44                 MINISTRY OF SCIENCE AND TECHNOLOGY                   14794.03\n",
              "45                      MINISTRY OF SKILL DEVELOPMENT                    2785.23\n",
              "46         MINISTRY OF SOCIAL JUSTICE AND EMPOWERMENT                   11689.39\n",
              "47                                 DEPARMENT OF SPACE                   13949.09\n",
              "48                             MINISTRY OF STATISTICS                    1409.13\n",
              "49                                  MINISTRY OF STEEL                      39.25\n",
              "50                               MINISTRY OF TEXTILES                    3631.64\n",
              "51                                MINISTRY OF TOURISM                    2026.77\n",
              "52                         MINISTRY OF TRIBAL AFFAIRS                    7524.87\n",
              "53            MINISTRY OF WOMEN AND CHILD DEVELOPMENT                   24435.00\n",
              "54               MINISTRY OF YOUTH AFFAIRS AND SPORTS                    2596.14\n",
              "56                                        GRAND TOTAL                 3483235.63"
            ]
          },
          "metadata": {
            "tags": []
          },
          "execution_count": 50
        }
      ]
    },
    {
      "cell_type": "code",
      "metadata": {
        "colab": {
          "base_uri": "https://localhost:8080/"
        },
        "id": "qdcHkStXweMB",
        "outputId": "42b80bfb-377d-4dec-9cac-c43227e9d804"
      },
      "source": [
        "df.info()"
      ],
      "execution_count": null,
      "outputs": [
        {
          "output_type": "stream",
          "text": [
            "<class 'pandas.core.frame.DataFrame'>\n",
            "RangeIndex: 57 entries, 0 to 56\n",
            "Data columns (total 2 columns):\n",
            " #   Column                     Non-Null Count  Dtype  \n",
            "---  ------                     --------------  -----  \n",
            " 0   Department /Ministry       56 non-null     object \n",
            " 1   Fund allotted(in ₹crores)  56 non-null     float64\n",
            "dtypes: float64(1), object(1)\n",
            "memory usage: 1.0+ KB\n"
          ],
          "name": "stdout"
        }
      ]
    },
    {
      "cell_type": "markdown",
      "metadata": {
        "id": "KvUHys02wWH9"
      },
      "source": [
        "Nous pouvons voir que tous les départements couverts dans cet ensemble de données ne sont pas les départements principaux, car certains départements peuvent être couverts dans la catégorie autres. Préparons donc les données en sélectionnant uniquement les départements principaux et en mettant tous les autres départements dans l'autre catégorie :"
      ]
    },
    {
      "cell_type": "code",
      "metadata": {
        "colab": {
          "base_uri": "https://localhost:8080/"
        },
        "id": "6eNeGqSrwUc1",
        "outputId": "5029cd18-b54d-4a59-8100-4a919edf1467"
      },
      "source": [
        "df = df.iloc[[0,8,11,14,18,23,41,42,43],:]\n",
        "row = {'Department /Ministry': 'OTHERS', 'Fund allotted(in ₹crores)': 592971.0800000001}\n",
        "df = df.append(row, ignore_index = True)\n",
        "print(df)"
      ],
      "execution_count": null,
      "outputs": [
        {
          "output_type": "stream",
          "text": [
            "                     Department /Ministry  Fund allotted(in ₹crores)\n",
            "0                 MINISTRY OF AGRICULTURE                  131531.19\n",
            "1            MINISTRY OF CONSUMER AFFAIRS                  256948.40\n",
            "2                     MINISTRY OF DEFENCE                  478195.62\n",
            "3                   MINISTRY OF EDUCATION                   93224.31\n",
            "4                     MINISTRY OF FINANCE                 1386273.30\n",
            "5                MINISTRY OF HOME AFFAIRS                  166546.94\n",
            "6                    MINISTRY OF RAILWAYS                  110054.64\n",
            "7  MINISTRY OF ROAD TRANSPORT AND HIGHWAY                  118101.00\n",
            "8           MINISTRY OF RURAL DEVELOPMENT                  133689.50\n",
            "9                                  OTHERS                  592971.08\n"
          ],
          "name": "stdout"
        }
      ]
    },
    {
      "cell_type": "markdown",
      "metadata": {
        "id": "PeXUKMbXH3wq"
      },
      "source": [
        "Traçons maintenant ces données pour avoir un aperçu des priorités du gouvernement pour l'exercice :"
      ]
    },
    {
      "cell_type": "code",
      "metadata": {
        "colab": {
          "base_uri": "https://localhost:8080/",
          "height": 302
        },
        "id": "dLFUT-TmHytK",
        "outputId": "2e5d3db6-9d9e-4a75-f14d-b1b901e85901"
      },
      "source": [
        "df.plot.bar(x='Department /Ministry', y='Fund allotted(in ₹crores)')"
      ],
      "execution_count": null,
      "outputs": [
        {
          "output_type": "execute_result",
          "data": {
            "text/plain": [
              "<matplotlib.axes._subplots.AxesSubplot at 0x7f7f0c5d6fd0>"
            ]
          },
          "metadata": {
            "tags": []
          },
          "execution_count": 32
        },
        {
          "output_type": "display_data",
          "data": {
            "image/png": "[encoded data removed]",
            "text/plain": [
              "<Figure size 432x288 with 1 Axes>"
            ]
          },
          "metadata": {
            "tags": [],
            "needs_background": "light"
          }
        }
      ]
    },
    {
      "cell_type": "markdown",
      "metadata": {
        "id": "KbizzJGFISpK"
      },
      "source": [
        "Nous pouvons voir que le ministère des Finances obtient la plus grande part du budget total du gouvernement. Traçons maintenant ces données dans un graphique en anneau pour avoir une vue claire de la répartition des fonds entre tous les départements :"
      ]
    },
    {
      "cell_type": "code",
      "metadata": {
        "colab": {
          "base_uri": "https://localhost:8080/",
          "height": 432
        },
        "id": "kAn9cFLJIj_A",
        "outputId": "4c701a2a-aab0-498c-d466-f938c31c8f26"
      },
      "source": [
        "df = data[\"Fund allotted(in ₹crores)\"]\n",
        "labels = data[\"Department /Ministry\"]\n",
        "plt.figure(figsize=(7,7))\n",
        "plt.pie(df, labels=labels, autopct='%1.1f%%', startangle=90, pctdistance=0.85, shadow =True)\n",
        "central_circle = plt.Circle((0, 0), 0.5, color='white')\n",
        "fig = plt.gcf()\n",
        "fig.gca().add_artist(central_circle)\n",
        "plt.rc('font', size=12)\n",
        "plt.title(\"Distribution of The Budget\", fontsize=20)\n",
        "plt.show()"
      ],
      "execution_count": null,
      "outputs": [
        {
          "output_type": "display_data",
          "data": {
            "image/png": "[encoded data removed]",
            "text/plain": [
              "<Figure size 504x504 with 1 Axes>"
            ]
          },
          "metadata": {
            "tags": []
          }
        }
      ]
    },
    {
      "cell_type": "markdown",
      "metadata": {
        "id": "GdNHjO02K7hz"
      },
      "source": [
        "**Conclusion**"
      ]
    },
    {
      "cell_type": "markdown",
      "metadata": {
        "id": "4T7pMUWbLAlI"
      },
      "source": [
        "On voit que le ministère des Finances reçoit 40 % des fonds. C'est ainsi que nous pouvons analyser un ensemble de données qui contient des données sur les recettes et les dépenses du gouvernement pour un exercice financier."
      ]
    }
  ]
}