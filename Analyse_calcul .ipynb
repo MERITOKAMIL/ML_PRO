{
  "cells": [
    {
      "cell_type": "code",
      "execution_count": 1,
      "metadata": {
        "id": "d8EGdwO0NXdV"
      },
      "outputs": [],
      "source": [
        "import numpy as np\n",
        "import matplotlib.pyplot as plt\n",
        "%matplotlib inline\n"
      ]
    },
    {
      "cell_type": "code",
      "execution_count": 2,
      "metadata": {
        "colab": {
          "base_uri": "https://localhost:8080/",
          "height": 447
        },
        "id": "qWP-7SfANiVD",
        "outputId": "402a6311-4767-4340-f3f7-54bd904243ae"
      },
      "outputs": [
        {
          "data": {
            "text/plain": [
              "[<matplotlib.lines.Line2D at 0x78db4c891990>]"
            ]
          },
          "execution_count": 2,
          "metadata": {},
          "output_type": "execute_result"
        },
        {
          "data": {
            "image/png": "[encoded data removed]",
            "text/plain": [
              "<Figure size 640x480 with 1 Axes>"
            ]
          },
          "metadata": {},
          "output_type": "display_data"
        }
      ],
      "source": [
        "X=np.linspace(-10, 4, 100)\n",
        "y=np.exp(X)\n",
        "plt.plot(X,y)"
      ]
    },
    {
      "cell_type": "code",
      "execution_count": 3,
      "metadata": {
        "colab": {
          "base_uri": "https://localhost:8080/"
        },
        "id": "uQUZX-GsPUSG",
        "outputId": "0e977678-4eeb-4d3d-eec9-466a5c2cb94e"
      },
      "outputs": [
        {
          "data": {
            "text/plain": [
              "np.float64(1.0)"
            ]
          },
          "execution_count": 3,
          "metadata": {},
          "output_type": "execute_result"
        }
      ],
      "source": [
        "np.exp(0)"
      ]
    },
    {
      "cell_type": "code",
      "execution_count": 4,
      "metadata": {
        "colab": {
          "base_uri": "https://localhost:8080/"
        },
        "id": "gWUkIzJ8PbXO",
        "outputId": "d7d524ff-1449-483a-8a7f-99ac081fb8fb"
      },
      "outputs": [
        {
          "data": {
            "text/plain": [
              "np.float64(2.718281828459045)"
            ]
          },
          "execution_count": 4,
          "metadata": {},
          "output_type": "execute_result"
        }
      ],
      "source": [
        "np.exp(1)"
      ]
    },
    {
      "cell_type": "code",
      "execution_count": 5,
      "metadata": {
        "colab": {
          "base_uri": "https://localhost:8080/"
        },
        "id": "F5Ykzz6_Pdx8",
        "outputId": "36848bf5-3e82-4ae8-fa37-835600ed484d"
      },
      "outputs": [
        {
          "name": "stderr",
          "output_type": "stream",
          "text": [
            "<ipython-input-5-915cd72afe32>:1: RuntimeWarning: overflow encountered in exp\n",
            "  np.exp(10000)\n"
          ]
        },
        {
          "data": {
            "text/plain": [
              "np.float64(inf)"
            ]
          },
          "execution_count": 5,
          "metadata": {},
          "output_type": "execute_result"
        }
      ],
      "source": [
        "np.exp(10000)"
      ]
    },
    {
      "cell_type": "markdown",
      "metadata": {
        "id": "J-uzZyTrQLG4"
      },
      "source": [
        "#Fonction sigmoid"
      ]
    },
    {
      "cell_type": "code",
      "execution_count": 6,
      "metadata": {
        "id": "k9PAedgQQOEY"
      },
      "outputs": [],
      "source": [
        "def sigmoid(x):\n",
        "    return 1/(1+np.exp(-x))"
      ]
    },
    {
      "cell_type": "code",
      "execution_count": 7,
      "metadata": {
        "colab": {
          "base_uri": "https://localhost:8080/"
        },
        "id": "EtnKPsgnQXov",
        "outputId": "a10be0ac-c063-4279-cf5e-c6d7c07d7be1"
      },
      "outputs": [
        {
          "data": {
            "text/plain": [
              "np.float64(0.5)"
            ]
          },
          "execution_count": 7,
          "metadata": {},
          "output_type": "execute_result"
        }
      ],
      "source": [
        "sigmoid(0)"
      ]
    },
    {
      "cell_type": "code",
      "execution_count": 8,
      "metadata": {
        "colab": {
          "base_uri": "https://localhost:8080/",
          "height": 447
        },
        "id": "Klx_Br63QpRp",
        "outputId": "a1df3d4e-0891-440a-9188-67a7f1bfbe1a"
      },
      "outputs": [
        {
          "data": {
            "text/plain": [
              "<matplotlib.collections.PathCollection at 0x78db4c958150>"
            ]
          },
          "execution_count": 8,
          "metadata": {},
          "output_type": "execute_result"
        },
        {
          "data": {
            "image/png": "[encoded data removed]",
            "text/plain": [
              "<Figure size 640x480 with 1 Axes>"
            ]
          },
          "metadata": {},
          "output_type": "display_data"
        }
      ],
      "source": [
        "X=np.linspace(-5,5,100)\n",
        "coord=0\n",
        "y=sigmoid(X)\n",
        "plt.vlines(x=coord,ymin=0,ymax=sigmoid(coord), colors=\"red\")\n",
        "plt.hlines(y=sigmoid(coord),xmin=X.min(),xmax=coord, colors=\"red\")\n",
        "plt.scatter(X,y)"
      ]
    },
    {
      "cell_type": "markdown",
      "metadata": {
        "id": "zfI13cSsR_tN"
      },
      "source": [
        "#Fonction logit"
      ]
    },
    {
      "cell_type": "code",
      "execution_count": 9,
      "metadata": {
        "id": "EQC8AmzPSDsi"
      },
      "outputs": [],
      "source": [
        "def logit(p):\n",
        "  return np.log(p/(1-p))"
      ]
    },
    {
      "cell_type": "code",
      "execution_count": 10,
      "metadata": {
        "colab": {
          "base_uri": "https://localhost:8080/"
        },
        "id": "7MOSXf9rUhUQ",
        "outputId": "508d1277-e968-4961-9f74-5485b9599b6d"
      },
      "outputs": [
        {
          "data": {
            "text/plain": [
              "np.float64(0.0)"
            ]
          },
          "execution_count": 10,
          "metadata": {},
          "output_type": "execute_result"
        }
      ],
      "source": [
        "logit(0.5)"
      ]
    },
    {
      "cell_type": "code",
      "execution_count": 11,
      "metadata": {
        "colab": {
          "base_uri": "https://localhost:8080/",
          "height": 447
        },
        "id": "Mgmyj0GYU3UH",
        "outputId": "eccc16e6-b715-47a4-b3df-7efbaec74ced"
      },
      "outputs": [
        {
          "data": {
            "text/plain": [
              "<matplotlib.collections.PathCollection at 0x78db4c5ae6d0>"
            ]
          },
          "execution_count": 11,
          "metadata": {},
          "output_type": "execute_result"
        },
        {
          "data": {
            "image/png": "[encoded data removed]",
            "text/plain": [
              "<Figure size 640x480 with 1 Axes>"
            ]
          },
          "metadata": {},
          "output_type": "display_data"
        }
      ],
      "source": [
        "X=np.linspace(0.001, 0.999, 100)\n",
        "y=logit(X)\n",
        "#plt.plot(X,y)\n",
        "plt.grid()\n",
        "plt.scatter(X,y)"
      ]
    },
    {
      "cell_type": "code",
      "execution_count": 12,
      "metadata": {
        "colab": {
          "base_uri": "https://localhost:8080/"
        },
        "id": "-cXTRQ_hV9mW",
        "outputId": "61a6b2fc-57a6-4e45-ba27-a2cd0ff840d2"
      },
      "outputs": [
        {
          "name": "stdout",
          "output_type": "stream",
          "text": [
            "0.9037844582893072\n",
            "2.2400000000000007\n"
          ]
        }
      ],
      "source": [
        "X=2.24\n",
        "y=sigmoid(X)\n",
        "z=logit(y)\n",
        "print(y)\n",
        "print(z)"
      ]
    }
  ],
  "metadata": {
    "colab": {
      "provenance": []
    },
    "kernelspec": {
      "display_name": "Python 3",
      "name": "python3"
    },
    "language_info": {
      "name": "python"
    }
  },
  "nbformat": 4,
  "nbformat_minor": 0
}
