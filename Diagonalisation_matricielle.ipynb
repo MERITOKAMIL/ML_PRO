{
  "nbformat": 4,
  "nbformat_minor": 0,
  "metadata": {
    "colab": {
      "provenance": [],
      "authorship_tag": "ABX9TyMit6RuR/kgci+Xy0UVtEEg",
      "include_colab_link": true
    },
    "kernelspec": {
      "name": "python3",
      "display_name": "Python 3"
    },
    "language_info": {
      "name": "python"
    }
  },
  "cells": [
    {
      "cell_type": "markdown",
      "metadata": {
        "id": "view-in-github",
        "colab_type": "text"
      },
      "source": [
        "<a href=\"https://colab.research.google.com/github/MERITOKAMIL/ML_PRO/blob/master/Diagonalisation_matricielle.ipynb\" target=\"_parent\"><img src=\"https://colab.research.google.com/assets/colab-badge.svg\" alt=\"Open In Colab\"/></a>"
      ]
    },
    {
      "cell_type": "code",
      "execution_count": 13,
      "metadata": {
        "id": "aE9I1O4o3iO0"
      },
      "outputs": [],
      "source": [
        "import numpy as np\n",
        "import pandas as pd\n",
        "import matplotlib.pyplot as plt\n",
        "import seaborn as sns\n",
        "import warnings\n",
        "warnings.filterwarnings('ignore')\n",
        "import scipy.stats as stats\n",
        "import statsmodels.api as sm\n",
        "from statsmodels.formula.api import ols\n",
        "from statsmodels.stats.anova import anova_lm\n",
        "from statsmodels.stats.multicomp import pairwise_tukeyhsd\n",
        "import sympy as sp\n"
      ]
    },
    {
      "cell_type": "code",
      "source": [
        "B=np.array([[1,-1,4],[3, 2,-1],[2, 1, -1]])\n",
        "B"
      ],
      "metadata": {
        "colab": {
          "base_uri": "https://localhost:8080/"
        },
        "id": "Dn9KEkRW4AeY",
        "outputId": "2047286e-88e3-4600-d682-f49e2db5da25"
      },
      "execution_count": 19,
      "outputs": [
        {
          "output_type": "execute_result",
          "data": {
            "text/plain": [
              "array([[ 1, -1,  4],\n",
              "       [ 3,  2, -1],\n",
              "       [ 2,  1, -1]])"
            ]
          },
          "metadata": {},
          "execution_count": 19
        }
      ]
    },
    {
      "cell_type": "code",
      "source": [
        "import numpy as np\n",
        "\n",
        "def est_diagonalisable(A):\n",
        "    # Calcul des valeurs propres et des vecteurs propres\n",
        "    valeurs_propres, vecteurs_propres = np.linalg.eig(A)\n",
        "\n",
        "    # Nombre de valeurs propres distinctes\n",
        "    valeurs_propres_uniques = np.unique(valeurs_propres)\n",
        "\n",
        "    # Vérifier si la matrice possède suffisamment de vecteurs propres linéairement indépendants\n",
        "    rang_vecteurs = np.linalg.matrix_rank(vecteurs_propres)\n",
        "\n",
        "    return rang_vecteurs == A.shape[0]\n",
        "\n",
        "# Exemple : Matrice à tester\n",
        "A = np.array([\n",
        "    [4, 1, 1],\n",
        "    [1, 4, 1],\n",
        "    [1, 1, 4]\n",
        "])\n",
        "\n",
        "# Vérification\n",
        "if est_diagonalisable(A):\n",
        "    print(\"La matrice est diagonalisable.\")\n",
        "else:\n",
        "    print(\"La matrice n'est pas diagonalisable.\")\n"
      ],
      "metadata": {
        "colab": {
          "base_uri": "https://localhost:8080/"
        },
        "id": "xc60rhfqGQ1w",
        "outputId": "4345b048-632b-4dd2-f7c7-0471e158ff45"
      },
      "execution_count": 20,
      "outputs": [
        {
          "output_type": "stream",
          "name": "stdout",
          "text": [
            "La matrice est diagonalisable.\n"
          ]
        }
      ]
    },
    {
      "cell_type": "code",
      "source": [
        " est_diagonalisable(B)"
      ],
      "metadata": {
        "colab": {
          "base_uri": "https://localhost:8080/"
        },
        "id": "UinrWQdpHV88",
        "outputId": "e6af41c6-11d3-4988-a2e8-da6915a41a3e"
      },
      "execution_count": 23,
      "outputs": [
        {
          "output_type": "execute_result",
          "data": {
            "text/plain": [
              "True"
            ]
          },
          "metadata": {},
          "execution_count": 23
        }
      ]
    },
    {
      "cell_type": "code",
      "source": [
        "#Polyhnome caracteristique\n",
        "I=np.array([[1,0,0],[0,1,0],[0,0,1]])\n",
        "k=np.random.randint(0,10)\n",
        "B=np.dot(I,k)\n",
        "B= -B\n",
        "poly=A+B\n",
        "poly\n"
      ],
      "metadata": {
        "colab": {
          "base_uri": "https://localhost:8080/"
        },
        "id": "BI8Zz3F_A4NB",
        "outputId": "658c4f62-7712-4dac-ab4b-216dc9467132"
      },
      "execution_count": 11,
      "outputs": [
        {
          "output_type": "execute_result",
          "data": {
            "text/plain": [
              "array([[-4, -1,  4],\n",
              "       [ 3, -3, -1],\n",
              "       [ 2,  1, -6]])"
            ]
          },
          "metadata": {},
          "execution_count": 11
        }
      ]
    },
    {
      "cell_type": "code",
      "source": [
        "np.dot(poly,k)"
      ],
      "metadata": {
        "colab": {
          "base_uri": "https://localhost:8080/"
        },
        "id": "ElAg6h7eBaQL",
        "outputId": "fd202f79-6a19-421c-9750-39f5f2cb5fb2"
      },
      "execution_count": 12,
      "outputs": [
        {
          "output_type": "execute_result",
          "data": {
            "text/plain": [
              "array([[-20,  -5,  20],\n",
              "       [ 15, -15,  -5],\n",
              "       [ 10,   5, -30]])"
            ]
          },
          "metadata": {},
          "execution_count": 12
        }
      ]
    }
  ]
}