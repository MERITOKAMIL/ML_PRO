{
  "nbformat": 4,
  "nbformat_minor": 0,
  "metadata": {
    "colab": {
      "name": "dectectionlangages.ipynb",
      "provenance": [],
      "authorship_tag": "ABX9TyMfKDLgc9J3zFUUB7kAt8iF",
      "include_colab_link": true
    },
    "kernelspec": {
      "name": "python3",
      "display_name": "Python 3"
    },
    "language_info": {
      "name": "python"
    }
  },
  "cells": [
    {
      "cell_type": "markdown",
      "metadata": {
        "id": "view-in-github",
        "colab_type": "text"
      },
      "source": [
        "<a href=\"https://colab.research.google.com/github/MERITOKAMIL/ML_PRO/blob/master/dectectionlangages.ipynb\" target=\"_parent\"><img src=\"https://colab.research.google.com/assets/colab-badge.svg\" alt=\"Open In Colab\"/></a>"
      ]
    },
    {
      "cell_type": "markdown",
      "metadata": {
        "id": "0nRKx9EH23wX"
      },
      "source": [
        "**Détection de langues **"
      ]
    },
    {
      "cell_type": "markdown",
      "metadata": {
        "id": "ZC5Zzcme3LB2"
      },
      "source": [
        "La tâche de détection de la langue entre en jeu lorsque vous travaillez sur un très grand ensemble de données contenant des données dans différentes langues. Supposons que vous souhaitiez créer un programme à pilotage pair où la sortie finale dépend de la langue fournie par l'utilisateur en tant qu'entrée. Il est donc important de détecter d'abord la langue du texte fourni par l'utilisateur avant de prendre toute action."
      ]
    },
    {
      "cell_type": "markdown",
      "metadata": {
        "id": "5uW1CV58DzUg"
      },
      "source": [
        "En tant que langage de programmation open-source, Python fournit des bibliothèques et des packages pour presque toutes les tâches possibles, car la communauté de programmation Python continue de contribuer à Python avec de nouvelles bibliothèques, packages et modules. Vous pouvez créer votre modèle d'apprentissage automatique pour la tâche de détection de langue, mais ici, nous utiliserons le package langdetect en Python qui peut détecter plus de 55 langues différentes en quelques lignes de code."
      ]
    },
    {
      "cell_type": "code",
      "metadata": {
        "id": "r4xrkyECD7Yv"
      },
      "source": [
        "**Détection de langage avec Python**"
      ],
      "execution_count": null,
      "outputs": []
    },
    {
      "cell_type": "markdown",
      "metadata": {
        "id": "7s7zmlArEN7m"
      },
      "source": [
        "Si vous n'avez jamais utilisé ce package auparavant, vous pouvez facilement l'installer en utilisant la commande pip; pip installer langdetect. Voyons maintenant comment utiliser ce package pour la tâche de détection de langage avec Python:"
      ]
    },
    {
      "cell_type": "code",
      "metadata": {
        "colab": {
          "base_uri": "https://localhost:8080/"
        },
        "id": "fAFLpJgBEayB",
        "outputId": "e868c539-e07f-40d1-9dc4-602df4dc3f32"
      },
      "source": [
        "pip install langdetect"
      ],
      "execution_count": null,
      "outputs": [
        {
          "output_type": "stream",
          "text": [
            "Collecting langdetect\n",
            "\u001b[?25l  Downloading https://files.pythonhosted.org/packages/0e/72/a3add0e4eec4eb9e2569554f7c70f4a3c27712f40e3284d483e88094cc0e/langdetect-1.0.9.tar.gz (981kB)\n",
            "\u001b[K     |████████████████████████████████| 983kB 5.1MB/s \n",
            "\u001b[?25hRequirement already satisfied: six in /usr/local/lib/python3.7/dist-packages (from langdetect) (1.15.0)\n",
            "Building wheels for collected packages: langdetect\n",
            "  Building wheel for langdetect (setup.py) ... \u001b[?25l\u001b[?25hdone\n",
            "  Created wheel for langdetect: filename=langdetect-1.0.9-cp37-none-any.whl size=993223 sha256=f9c6b575bb44cd2982ab3cd1a9ab964bde2af9a018cfaa29e4ed87f92d9066cf\n",
            "  Stored in directory: /root/.cache/pip/wheels/7e/18/13/038c34057808931c7ddc6c92d3aa015cf1a498df5a70268996\n",
            "Successfully built langdetect\n",
            "Installing collected packages: langdetect\n",
            "Successfully installed langdetect-1.0.9\n"
          ],
          "name": "stdout"
        }
      ]
    },
    {
      "cell_type": "code",
      "metadata": {
        "colab": {
          "base_uri": "https://localhost:8080/"
        },
        "id": "q02_cWggEMz2",
        "outputId": "1705eea3-065e-4426-a059-73c9ea99891e"
      },
      "source": [
        "from langdetect import detect\n",
        "text = input(\"Enter any text in any language: \")\n",
        "print(detect(text))"
      ],
      "execution_count": null,
      "outputs": [
        {
          "output_type": "stream",
          "text": [
            "Enter any text in any language: Salt, je suis Kamil Merito, j'espère que vous allez bien.\n",
            "fr\n"
          ],
          "name": "stdout"
        }
      ]
    },
    {
      "cell_type": "markdown",
      "metadata": {
        "id": "aPR3QXV4FfkZ"
      },
      "source": [
        "Dans le code ci-dessus, j'ai commencé par importer la méthode de détection du package langdetect. Ensuite, je demande simplement une entrée utilisateur où l'utilisateur peut saisir du texte dans n'importe quelle langue. Ensuite, j'imprime simplement la langue du texte saisi par l'utilisateur en le détectant à l'aide de la méthode de détection."
      ]
    },
    {
      "cell_type": "markdown",
      "metadata": {
        "id": "8UNxjeumF-K2"
      },
      "source": [
        "**Résumé**"
      ]
    },
    {
      "cell_type": "markdown",
      "metadata": {
        "id": "2HnRe9_vGEM2"
      },
      "source": [
        "La sortie reçue est une forme abrégée de la langue (fr signifie français). Ainsi, l'utilisateur peut entrer du texte dans la langue qu'il aime, votre programme détectera cette langue mais il donnera la forme abrégée de cette langue en sortie."
      ]
    }
  ]
}