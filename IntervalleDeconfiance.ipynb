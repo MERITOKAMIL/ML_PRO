{
  "nbformat": 4,
  "nbformat_minor": 0,
  "metadata": {
    "colab": {
      "provenance": [],
      "authorship_tag": "ABX9TyO1UCZL6JRZUzz1ntWtdMog",
      "include_colab_link": true
    },
    "kernelspec": {
      "name": "python3",
      "display_name": "Python 3"
    },
    "language_info": {
      "name": "python"
    }
  },
  "cells": [
    {
      "cell_type": "markdown",
      "metadata": {
        "id": "view-in-github",
        "colab_type": "text"
      },
      "source": [
        "<a href=\"https://colab.research.google.com/github/MERITOKAMIL/ML_PRO/blob/master/IntervalleDeconfiance.ipynb\" target=\"_parent\"><img src=\"https://colab.research.google.com/assets/colab-badge.svg\" alt=\"Open In Colab\"/></a>"
      ]
    },
    {
      "cell_type": "markdown",
      "source": [
        "Un modèle prédit quel prix aura le Bitcoin dans 24 heures, et il a été évalué sur les 365 derniers jours comme faisant 1800 euros d'erreurs en moyenne absolue, avec un écart type de 2200 euros. Quel est l'intervalle de confiance à 95 % ?"
      ],
      "metadata": {
        "id": "S5yIARlQscoA"
      }
    },
    {
      "cell_type": "code",
      "execution_count": 1,
      "metadata": {
        "colab": {
          "base_uri": "https://localhost:8080/"
        },
        "id": "_zy7E0nNrRnJ",
        "outputId": "f34e390f-2e84-4f3c-95ce-47716caaaa35"
      },
      "outputs": [
        {
          "output_type": "stream",
          "name": "stdout",
          "text": [
            "Intervalle de confiance à 95% : [-2512.00, 6112.00]\n"
          ]
        }
      ],
      "source": [
        "# Données du problème\n",
        "moyenne_erreur = 1800\n",
        "ecart_type = 2200\n",
        "z_score = 1.96  # Facteur pour 95%\n",
        "\n",
        "# Calcul de l'intervalle de confiance\n",
        "borne_inf = moyenne_erreur - z_score * ecart_type\n",
        "borne_sup = moyenne_erreur + z_score * ecart_type\n",
        "\n",
        "# Affichage du résultat\n",
        "print(f\"Intervalle de confiance à 95% : [{borne_inf:.2f}, {borne_sup:.2f}]\")"
      ]
    },
    {
      "cell_type": "markdown",
      "source": [
        "Un médecin développe un modèle de Machine Learning avec un recall de 80 %, sur 1500 personnes, ce qui signifie qu'il a pu correctement trouver 80 % des malades parmi ces 1500 personnes. Mais quel serait ce taux à l'avenir ? Calculez l'intervalle qui vous donne une confiance de 95 % sur ce vrai taux."
      ],
      "metadata": {
        "id": "P7tZ5nCnthRd"
      }
    },
    {
      "cell_type": "code",
      "source": [
        "import math\n",
        "\n",
        "# Données du problème\n",
        "p = 0.80  # Recall observé\n",
        "n = 1500  # Nombre total de personnes testées\n",
        "z = 1.96  # Facteur pour 95%\n",
        "\n",
        "# Calcul de l'erreur standard\n",
        "erreur_standard = math.sqrt((p * (1 - p)) / n)\n",
        "\n",
        "# Calcul de l'intervalle de confiance\n",
        "borne_inf = p - z * erreur_standard\n",
        "borne_sup = p + z * erreur_standard\n",
        "\n",
        "# Affichage du résultat\n",
        "print(f\"Intervalle de confiance à 95% : [{borne_inf:.4f}, {borne_sup:.4f}]\")\n"
      ],
      "metadata": {
        "colab": {
          "base_uri": "https://localhost:8080/"
        },
        "id": "132_Udm7tfzv",
        "outputId": "19b53b9e-c9a7-46cc-c52c-98182f12e210"
      },
      "execution_count": 2,
      "outputs": [
        {
          "output_type": "stream",
          "name": "stdout",
          "text": [
            "Intervalle de confiance à 95% : [0.7798, 0.8202]\n"
          ]
        }
      ]
    }
  ]
}